{
 "cells": [
  {
   "cell_type": "markdown",
   "metadata": {},
   "source": [
    "### Day 1 Problem 4) Find the second largest: You are given a sequence of integers as input, terminated by a -1. (That is, the input integers may be positive, negative or 0. A -1 in the input signals the end of the input.)\n",
    "    -1 is not considered as part of the input.\n",
    "    Find the second largest number in the input. You may not use arrays.\n",
    "                     Input                               Output\n",
    "    Test Case 1     -840 -288 -261 -337 -335 488 -1     -261\n",
    "    Test Case 2     -840 -335 -1                        -840 "
   ]
  },
  {
   "cell_type": "code",
   "execution_count": 75,
   "metadata": {},
   "outputs": [
    {
     "name": "stdout",
     "output_type": "stream",
     "text": [
      "Enter value :-840\n",
      "Enter value :-288\n",
      "2-288\n",
      "Enter value :-261\n",
      "2-261\n",
      "Enter value :-335\n",
      "Enter value :488\n",
      "2488\n",
      "Enter value :-1\n",
      "-261\n"
     ]
    }
   ],
   "source": [
    "a = -100001\n",
    "max1 = a\n",
    "scdmax = a\n",
    "\n",
    "while (a != -1 ):\n",
    "    if a == -100001:\n",
    "        a = int(input(\"Enter value :\"))\n",
    "        max1 = a\n",
    "        scdmax = a        \n",
    "    else:\n",
    "        a = int(input(\"Enter value :\"))\n",
    "        \n",
    "    if a == -1:\n",
    "        print (scdmax)\n",
    "        break\n",
    "        \n",
    "    if a <= max1 and a > scdmax :\n",
    "        scdmax = a\n",
    "        \n",
    "    elif a > max1:\n",
    "        scdmax = max1\n",
    "        max1 = a\n",
    "        "
   ]
  },
  {
   "cell_type": "code",
   "execution_count": 71,
   "metadata": {},
   "outputs": [
    {
     "data": {
      "text/plain": [
       "488"
      ]
     },
     "execution_count": 71,
     "metadata": {},
     "output_type": "execute_result"
    }
   ],
   "source": [
    "max1"
   ]
  },
  {
   "cell_type": "code",
   "execution_count": 72,
   "metadata": {},
   "outputs": [
    {
     "data": {
      "text/plain": [
       "-251"
      ]
     },
     "execution_count": 72,
     "metadata": {},
     "output_type": "execute_result"
    }
   ],
   "source": [
    "scdmax"
   ]
  },
  {
   "cell_type": "code",
   "execution_count": 73,
   "metadata": {},
   "outputs": [
    {
     "data": {
      "text/plain": [
       "-1"
      ]
     },
     "execution_count": 73,
     "metadata": {},
     "output_type": "execute_result"
    }
   ],
   "source": [
    "a"
   ]
  },
  {
   "cell_type": "code",
   "execution_count": null,
   "metadata": {},
   "outputs": [],
   "source": []
  }
 ],
 "metadata": {
  "kernelspec": {
   "display_name": "Python 3",
   "language": "python",
   "name": "python3"
  },
  "language_info": {
   "codemirror_mode": {
    "name": "ipython",
    "version": 3
   },
   "file_extension": ".py",
   "mimetype": "text/x-python",
   "name": "python",
   "nbconvert_exporter": "python",
   "pygments_lexer": "ipython3",
   "version": "3.7.6"
  }
 },
 "nbformat": 4,
 "nbformat_minor": 4
}

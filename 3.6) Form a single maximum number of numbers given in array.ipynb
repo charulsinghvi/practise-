{
 "cells": [
  {
   "cell_type": "markdown",
   "metadata": {},
   "source": [
    "# Day 3 Problem 6) Given an array of numbers, arrange in it in the form of single number such that the concluded number is the maximum.\n",
    "    Input: - 78, 92, 43, 9, 10\n",
    "    Output: - 998743210\n",
    "    Input: - 99, 8, 76, 45, 7, 33, 42\n",
    "    Output: - 998776544332"
   ]
  },
  {
   "cell_type": "code",
   "execution_count": 27,
   "metadata": {},
   "outputs": [
    {
     "name": "stdout",
     "output_type": "stream",
     "text": [
      "Enter amount of numbers in list : 6\n",
      "Enter the0th number : 34\n",
      "Enter the1th number : 88\n",
      "Enter the2th number : 94\n",
      "Enter the3th number : 32\n",
      "Enter the4th number : 11\n",
      "Enter the5th number : 09\n"
     ]
    }
   ],
   "source": [
    "n = int(input( \"Enter amount of numbers in list : \" ))\n",
    "array_of_nos = ''\n",
    "for i in range(n):\n",
    "    array_of_nos += (input(\"Enter the\"+ str(i) +\"th number : \"))"
   ]
  },
  {
   "cell_type": "code",
   "execution_count": 28,
   "metadata": {},
   "outputs": [],
   "source": [
    "array_of_nos = list(array_of_nos)"
   ]
  },
  {
   "cell_type": "code",
   "execution_count": 29,
   "metadata": {},
   "outputs": [
    {
     "data": {
      "text/plain": [
       "['3', '4', '8', '8', '9', '4', '3', '2', '1', '1', '0', '9']"
      ]
     },
     "execution_count": 29,
     "metadata": {},
     "output_type": "execute_result"
    }
   ],
   "source": [
    "array_of_nos "
   ]
  },
  {
   "cell_type": "code",
   "execution_count": 30,
   "metadata": {},
   "outputs": [],
   "source": [
    "array_of_nos.sort(reverse=True)"
   ]
  },
  {
   "cell_type": "code",
   "execution_count": 31,
   "metadata": {},
   "outputs": [
    {
     "name": "stdout",
     "output_type": "stream",
     "text": [
      "['9', '9', '8', '8', '4', '4', '3', '3', '2', '1', '1', '0']\n"
     ]
    }
   ],
   "source": [
    "print(array_of_nos)"
   ]
  },
  {
   "cell_type": "code",
   "execution_count": 32,
   "metadata": {},
   "outputs": [],
   "source": [
    "max_number = ''\n",
    "max_number = max_number.join(array_of_nos)"
   ]
  },
  {
   "cell_type": "code",
   "execution_count": 33,
   "metadata": {},
   "outputs": [
    {
     "name": "stdout",
     "output_type": "stream",
     "text": [
      "998844332110\n"
     ]
    }
   ],
   "source": [
    "print(max_number)"
   ]
  },
  {
   "cell_type": "code",
   "execution_count": null,
   "metadata": {},
   "outputs": [],
   "source": []
  }
 ],
 "metadata": {
  "kernelspec": {
   "display_name": "Python 3",
   "language": "python",
   "name": "python3"
  },
  "language_info": {
   "codemirror_mode": {
    "name": "ipython",
    "version": 3
   },
   "file_extension": ".py",
   "mimetype": "text/x-python",
   "name": "python",
   "nbconvert_exporter": "python",
   "pygments_lexer": "ipython3",
   "version": "3.7.6"
  }
 },
 "nbformat": 4,
 "nbformat_minor": 4
}

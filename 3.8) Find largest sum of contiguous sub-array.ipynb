{
 "cells": [
  {
   "cell_type": "markdown",
   "metadata": {},
   "source": [
    "# Day 3 Problem 8) Find the sum of contiguous sub-array within a onedimensional array of numbers which has the largest sum. (Use Kadane’s Algorithm)\n",
    "    Input: -2, -3, 4, -1, -2, 1, 5, -3\n",
    "    Output: Max Sum is =7 (4+ (-1) + (-2) +1+5)\n",
    "    \n",
    "       "
   ]
  },
  {
   "cell_type": "code",
   "execution_count": 1,
   "metadata": {},
   "outputs": [],
   "source": [
    "def maxSubArraySum(a,size): \n",
    "      \n",
    "    max_so_far =a[0] \n",
    "    curr_max = a[0] \n",
    "      \n",
    "    for i in range(1,size): \n",
    "        curr_max = max(a[i], curr_max + a[i]) \n",
    "        max_so_far = max(max_so_far,curr_max) \n",
    "          \n",
    "    return max_so_far "
   ]
  },
  {
   "cell_type": "code",
   "execution_count": 2,
   "metadata": {},
   "outputs": [
    {
     "name": "stdout",
     "output_type": "stream",
     "text": [
      "Maximum contiguous sum is 7\n"
     ]
    }
   ],
   "source": [
    "# a = [-13, -3, -25, -20, -3, -16, -23, -12, -5, -22, -15, -4, -7] \n",
    "a = [-2, -3, 4, -1, -2, 1, 5, -3]\n",
    "print (\"Maximum contiguous sum is \"+ str(maxSubArraySum(a,len(a))) )\n",
    " "
   ]
  },
  {
   "cell_type": "code",
   "execution_count": null,
   "metadata": {},
   "outputs": [],
   "source": []
  }
 ],
 "metadata": {
  "kernelspec": {
   "display_name": "Python 3",
   "language": "python",
   "name": "python3"
  },
  "language_info": {
   "codemirror_mode": {
    "name": "ipython",
    "version": 3
   },
   "file_extension": ".py",
   "mimetype": "text/x-python",
   "name": "python",
   "nbconvert_exporter": "python",
   "pygments_lexer": "ipython3",
   "version": "3.7.6"
  }
 },
 "nbformat": 4,
 "nbformat_minor": 4
}

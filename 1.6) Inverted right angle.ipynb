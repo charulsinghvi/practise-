{
 "cells": [
  {
   "cell_type": "markdown",
   "metadata": {},
   "source": [
    "### Day 1 Problem 6) Inverted right angle: Write a program to do the following:-\n",
    "    a) Take height h as the input\n",
    "    b) Based on the height, print h lines in output such that they form a pattern in the shape of\n",
    "    an \"inverted\" right angled triangle\n",
    "    c) Each line should form an Arithmetic Progression with the starting element = row_number\n",
    "    and common difference = 1. Take modulo 10 for numbers greater than 9\n",
    "                    Input   Output\n",
    "    Test Case 1     5       12345\n",
    "                            2345\n",
    "                            345\n",
    "                            45\n",
    "                            5\n",
    "    Test Case 2     14      12345678901234\n",
    "                            2345678901234\n",
    "                            345678901234\n",
    "                            45678901234\n",
    "                            5678901234\n",
    "                            678901234\n",
    "                            78901234\n",
    "                            8901234\n",
    "                            901234\n",
    "                            01234\n",
    "                            1234\n",
    "                            234\n",
    "                            34\n",
    "                            4 "
   ]
  },
  {
   "cell_type": "code",
   "execution_count": 6,
   "metadata": {},
   "outputs": [
    {
     "name": "stdout",
     "output_type": "stream",
     "text": [
      "Enter height: 14\n",
      "12345678901234\n",
      "2345678901234\n",
      "345678901234\n",
      "45678901234\n",
      "5678901234\n",
      "678901234\n",
      "78901234\n",
      "8901234\n",
      "901234\n",
      "01234\n",
      "1234\n",
      "234\n",
      "34\n",
      "4\n"
     ]
    }
   ],
   "source": [
    "n = int(input('Enter height: '))\n",
    "if n > 9:\n",
    "    for i in range( 1, n+1 ):\n",
    "        for j in range( i, n+1 ):\n",
    "            print( j%10, end = '' )\n",
    "        print('')\n",
    "    \n",
    "else:\n",
    "    for i in range( 1, n+1 ):\n",
    "        for j in range( i, n+1 ):\n",
    "            print( j, end = '' )\n",
    "        print('')"
   ]
  },
  {
   "cell_type": "code",
   "execution_count": null,
   "metadata": {},
   "outputs": [],
   "source": []
  }
 ],
 "metadata": {
  "kernelspec": {
   "display_name": "Python 3",
   "language": "python",
   "name": "python3"
  },
  "language_info": {
   "codemirror_mode": {
    "name": "ipython",
    "version": 3
   },
   "file_extension": ".py",
   "mimetype": "text/x-python",
   "name": "python",
   "nbconvert_exporter": "python",
   "pygments_lexer": "ipython3",
   "version": "3.7.6"
  }
 },
 "nbformat": 4,
 "nbformat_minor": 4
}

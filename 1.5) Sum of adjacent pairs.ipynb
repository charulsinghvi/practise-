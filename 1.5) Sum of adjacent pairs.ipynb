{
 "cells": [
  {
   "cell_type": "markdown",
   "metadata": {},
   "source": [
    "## Day 1 Problem 5) Sum of adjacent pairs: You are given a sequence of numbers, ending with a -1. You can assume that are at least two numbers before the ending -1.\n",
    "    Let us call the sequence x0 x1 ... xn -1.\n",
    "    You have to output the sequence of sums of adjacent pairs of numbers, as follows:\n",
    "    x0+x1 x1+x2 ... xn-1+xn\n",
    "    Note that the sums are separated by spaces. Kindly do not use arrays in the code.\n",
    "                   Input         Output\n",
    "    Test Case 1    4 5 6 7 -1    9 11 13\n",
    "    Test Case 2    3 4 5 -1      7 9\n",
    "    Test Case 3    1 2 -1        3  "
   ]
  },
  {
   "cell_type": "code",
   "execution_count": 7,
   "metadata": {},
   "outputs": [
    {
     "name": "stdout",
     "output_type": "stream",
     "text": [
      "Enter a number : 1\n",
      "Enter a number : 2\n",
      "Enter a number : -1\n",
      "3 \n"
     ]
    }
   ],
   "source": [
    "i = 0\n",
    "c = ''\n",
    "while (i != -1): \n",
    "    b = i or a\n",
    "    a = int(input(\"Enter a number : \"))\n",
    "    if a == -1:\n",
    "        print(c)\n",
    "        break\n",
    "    if i != 0:\n",
    "        c += ( str(a+b) + ' ' )  \n",
    "        \n",
    "    i = a"
   ]
  },
  {
   "cell_type": "markdown",
   "metadata": {},
   "source": []
  }
 ],
 "metadata": {
  "kernelspec": {
   "display_name": "Python 3",
   "language": "python",
   "name": "python3"
  },
  "language_info": {
   "codemirror_mode": {
    "name": "ipython",
    "version": 3
   },
   "file_extension": ".py",
   "mimetype": "text/x-python",
   "name": "python",
   "nbconvert_exporter": "python",
   "pygments_lexer": "ipython3",
   "version": "3.7.6"
  }
 },
 "nbformat": 4,
 "nbformat_minor": 4
}
